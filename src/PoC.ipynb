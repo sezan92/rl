{
 "cells": [
  {
   "cell_type": "code",
   "execution_count": 1,
   "id": "d2a027ac-cc6d-4c7a-9a18-828b85c190b4",
   "metadata": {},
   "outputs": [
    {
     "name": "stderr",
     "output_type": "stream",
     "text": [
      "[2022-09-20 00:23:09,470] Making new env: LunarLanderContinuous-v2\n",
      "/usr/local/lib/python3.8/dist-packages/gym/envs/registration.py:17: PkgResourcesDeprecationWarning: Parameters to load are deprecated.  Call .resolve and .require separately.\n",
      "  result = entry_point.load(False)\n"
     ]
    }
   ],
   "source": [
    "import gym\n",
    "env = gym.make(\"LunarLanderContinuous-v2\")"
   ]
  },
  {
   "cell_type": "code",
   "execution_count": 2,
   "id": "80fe5d29-d8ec-48dc-aebd-3c80e0fae2a7",
   "metadata": {},
   "outputs": [],
   "source": [
    "import numpy as np"
   ]
  },
  {
   "cell_type": "code",
   "execution_count": 3,
   "id": "f338f25a-c8a3-4817-8a13-6f803ff736c2",
   "metadata": {},
   "outputs": [],
   "source": [
    "import torch\n",
    "import torch.nn as nn\n",
    "import torch.nn.functional as F\n"
   ]
  },
  {
   "cell_type": "code",
   "execution_count": 4,
   "id": "3c5a06d9-4d20-4d14-b17e-4444180109f5",
   "metadata": {},
   "outputs": [],
   "source": [
    "device = torch.device(\"cpu\")\n"
   ]
  },
  {
   "cell_type": "code",
   "execution_count": 5,
   "id": "aee2fbea-d76a-4c60-9d84-9f83641df365",
   "metadata": {},
   "outputs": [
    {
     "data": {
      "text/plain": [
       "array([ 0.00325508,  0.93802462,  0.32968571, -0.172589  , -0.003765  ,\n",
       "       -0.07467871,  0.        ,  0.        ])"
      ]
     },
     "execution_count": 5,
     "metadata": {},
     "output_type": "execute_result"
    }
   ],
   "source": [
    "env.reset()"
   ]
  },
  {
   "cell_type": "code",
   "execution_count": 6,
   "id": "bc6bdf13-1779-4ab3-aa39-164e2912fcdb",
   "metadata": {},
   "outputs": [
    {
     "data": {
      "text/plain": [
       "(array([ 0.00642653,  0.93533574,  0.32128093, -0.17927957, -0.00786309,\n",
       "        -0.08196877,  0.        ,  0.        ]),\n",
       " 0.12848183525954585,\n",
       " False,\n",
       " {})"
      ]
     },
     "execution_count": 6,
     "metadata": {},
     "output_type": "execute_result"
    }
   ],
   "source": [
    "env.step(np.array([0.001, 0.001]))"
   ]
  },
  {
   "cell_type": "code",
   "execution_count": 7,
   "id": "6e4b95c1-e8f8-4ee9-bce8-419946dc7e77",
   "metadata": {},
   "outputs": [],
   "source": [
    "class Policy(nn.Module):\n",
    "    def __init__(self, s_size=4, fc1_size=150, fc2_size=120, a_size=2):\n",
    "        super(Policy, self).__init__()\n",
    "        self.fc1 = nn.Linear(s_size, fc1_size)\n",
    "        self.fc2 = nn.Linear(fc1_size, fc2_size)\n",
    "        self.mu = nn.Linear(fc2_size, a_size)\n",
    "        self.std = nn.Linear(fc2_size, a_size)\n",
    "        \n",
    "    def forward(self, x):\n",
    "        x = F.relu(self.fc1(x))\n",
    "        x = F.relu(self.fc2(x))\n",
    "        mu = self.mu(x)\n",
    "        std = F.relu(self.std(x))\n",
    "        return mu, std\n",
    "    \n",
    "    def act(self, state):\n",
    "        state = torch.from_numpy(state).float().unsqueeze(0).to(device)\n",
    "        mu, std = self.forward(state)\n",
    "        print(f'DEBUG: std {std}')\n",
    "        action = torch.normal(mu, std)\n",
    "        return action\n",
    "        # TODO (sezan92):\n",
    "        # get the probability from mu and std\n",
    "        \n",
    "        # return action.item(), m.log_prob(action)"
   ]
  },
  {
   "cell_type": "code",
   "execution_count": 8,
   "id": "5ac3551d-edd8-4b11-8158-56606d1eca82",
   "metadata": {},
   "outputs": [],
   "source": [
    "model = Policy(s_size=8)"
   ]
  },
  {
   "cell_type": "code",
   "execution_count": 9,
   "id": "888c2ba0-8add-406c-85d4-c2d736e73e1d",
   "metadata": {},
   "outputs": [],
   "source": [
    "state = env.reset()"
   ]
  },
  {
   "cell_type": "code",
   "execution_count": 10,
   "id": "9dff1ed1-cdaa-4a53-88f4-8d337d2531d6",
   "metadata": {},
   "outputs": [
    {
     "data": {
      "text/plain": [
       "array([ 0.00612793,  0.93864432,  0.62068253, -0.13128264, -0.00709402,\n",
       "       -0.14059384,  0.        ,  0.        ])"
      ]
     },
     "execution_count": 10,
     "metadata": {},
     "output_type": "execute_result"
    }
   ],
   "source": [
    "state"
   ]
  },
  {
   "cell_type": "code",
   "execution_count": 11,
   "id": "9e6ccc8c-334c-48e6-99bc-40251133f56e",
   "metadata": {},
   "outputs": [
    {
     "name": "stdout",
     "output_type": "stream",
     "text": [
      "DEBUG: std tensor([[0.0000, 0.0500]], grad_fn=<ReluBackward0>)\n"
     ]
    }
   ],
   "source": [
    "action = model.act(state)"
   ]
  },
  {
   "cell_type": "code",
   "execution_count": 12,
   "id": "f470728e-a33a-4d39-9ab7-551783186cd1",
   "metadata": {},
   "outputs": [
    {
     "data": {
      "text/plain": [
       "tensor([[ 0.1167, -0.0413]], grad_fn=<NormalBackward3>)"
      ]
     },
     "execution_count": 12,
     "metadata": {},
     "output_type": "execute_result"
    }
   ],
   "source": [
    "action"
   ]
  },
  {
   "cell_type": "code",
   "execution_count": 13,
   "id": "fa93c035-74e6-4146-9c19-6eb322698a4d",
   "metadata": {},
   "outputs": [],
   "source": [
    "# TODO:\n",
    "# Get the correct and best function for action and log probability for pytorch\n",
    "# apply\n",
    "# check if the values are okay."
   ]
  },
  {
   "cell_type": "code",
   "execution_count": null,
   "id": "991a97dc-1285-43c1-b1eb-f7d7ebc1e2c0",
   "metadata": {},
   "outputs": [],
   "source": []
  }
 ],
 "metadata": {
  "kernelspec": {
   "display_name": "Python 3",
   "language": "python",
   "name": "python3"
  },
  "language_info": {
   "codemirror_mode": {
    "name": "ipython",
    "version": 3
   },
   "file_extension": ".py",
   "mimetype": "text/x-python",
   "name": "python",
   "nbconvert_exporter": "python",
   "pygments_lexer": "ipython3",
   "version": "3.8.10"
  }
 },
 "nbformat": 4,
 "nbformat_minor": 5
}
